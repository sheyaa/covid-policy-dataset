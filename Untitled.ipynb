{
 "cells": [
  {
   "cell_type": "markdown",
   "id": "9bfae2bd",
   "metadata": {},
   "source": [
    "# Importing Libraries"
   ]
  },
  {
   "cell_type": "code",
   "execution_count": 2,
   "id": "08d00ce4",
   "metadata": {},
   "outputs": [],
   "source": [
    "import pandas as pd \n",
    "import numpy as np\n",
    "import csv\n",
    "import matplotlib.pyplot as plt\n",
    "import plotly.graph_objects as go\n",
    "import plotly.express as px"
   ]
  },
  {
   "cell_type": "markdown",
   "id": "9b347e40",
   "metadata": {},
   "source": [
    "# Reading the Data"
   ]
  },
  {
   "cell_type": "code",
   "execution_count": 2,
   "id": "d73c52e5",
   "metadata": {
    "scrolled": true
   },
   "outputs": [
    {
     "name": "stdout",
     "output_type": "stream",
     "text": [
      "          CountryName      Date  V4_Mandatory Vaccination (summary)  \\\n",
      "191800  United States  20200101                                 0.0   \n",
      "191801  United States  20200102                                 0.0   \n",
      "191802  United States  20200103                                 0.0   \n",
      "191803  United States  20200104                                 0.0   \n",
      "191804  United States  20200105                                 0.0   \n",
      "...               ...       ...                                 ...   \n",
      "192891  United States  20221227                                 1.0   \n",
      "192892  United States  20221228                                 1.0   \n",
      "192893  United States  20221229                                 1.0   \n",
      "192894  United States  20221230                                 1.0   \n",
      "192895  United States  20221231                                 1.0   \n",
      "\n",
      "        ConfirmedCases  ConfirmedDeaths  PopulationVaccinated  \n",
      "191800             0.0              0.0                  0.00  \n",
      "191801             0.0              0.0                  0.00  \n",
      "191802             0.0              0.0                  0.00  \n",
      "191803             0.0              0.0                  0.00  \n",
      "191804             0.0              0.0                  0.00  \n",
      "...                ...              ...                   ...  \n",
      "192891     100501536.0        1090608.0                 69.13  \n",
      "192892     100614880.0        1091598.0                 69.13  \n",
      "192893     100718983.0        1092522.0                 69.14  \n",
      "192894     100757380.0        1092738.0                 69.15  \n",
      "192895     100765333.0        1092764.0                 69.15  \n",
      "\n",
      "[1096 rows x 6 columns]\n"
     ]
    }
   ],
   "source": [
    "# File path to the CSV file (assuming it's in the same folder as the script)\n",
    "data = \"data/OxCGRT_compact_national_v1.csv\"\n",
    "\n",
    "df = pd.read_csv(data)\n",
    "\n",
    "# Making a new data frame with the selected columns\n",
    "data_df = df[['CountryName', 'Date', 'V4_Mandatory Vaccination (summary)', 'ConfirmedCases', 'ConfirmedDeaths', 'PopulationVaccinated']]\n",
    "selected_row_US = data_df[data_df['CountryName'] == 'United States']\n",
    "print(selected_row_US)\n"
   ]
  },
  {
   "cell_type": "code",
   "execution_count": 5,
   "id": "ebf333b2",
   "metadata": {},
   "outputs": [
    {
     "data": {
      "image/png": "[encoded data removed]",
      "text/plain": [
       "<Figure size 432x288 with 1 Axes>"
      ]
     },
     "metadata": {
      "needs_background": "light"
     },
     "output_type": "display_data"
    }
   ],
   "source": [
    "x = selected_row_US['Date']\n",
    "y = selected_row_US['ConfirmedCases']\n",
    "plt.plot(x, y)\n",
    "plt.ylabel('Confirmed Cases')\n",
    "plt.xlabel('Date')\n",
    "plt.title('Confirmed Cases in the US')\n",
    "plt.show()"
   ]
  },
  {
   "cell_type": "code",
   "execution_count": null,
   "id": "faf630da",
   "metadata": {},
   "outputs": [],
   "source": []
  },
  {
   "cell_type": "code",
   "execution_count": 4,
   "id": "9123a65c",
   "metadata": {},
   "outputs": [
    {
     "name": "stdout",
     "output_type": "stream",
     "text": [
      "      CountryName  01Jan2020  02Jan2020  03Jan2020  04Jan2020  05Jan2020  \\\n",
      "0           Aruba        0.0        0.0        0.0        0.0        0.0   \n",
      "1     Afghanistan        0.0        0.0        0.0        0.0        0.0   \n",
      "2          Angola        0.0        0.0        0.0        0.0        0.0   \n",
      "3         Albania        0.0        0.0        0.0        0.0        0.0   \n",
      "4         Andorra        0.0        0.0        0.0        0.0        0.0   \n",
      "..            ...        ...        ...        ...        ...        ...   \n",
      "390       Vanuatu        0.0        0.0        0.0        0.0        0.0   \n",
      "391         Yemen        0.0        0.0        0.0        0.0        0.0   \n",
      "392  South Africa        0.0        0.0        0.0        0.0        0.0   \n",
      "393        Zambia        0.0        0.0        0.0        0.0        0.0   \n",
      "394      Zimbabwe        0.0        0.0        0.0        0.0        0.0   \n",
      "\n",
      "     06Jan2020  07Jan2020  08Jan2020  09Jan2020  ...  19Feb2023  20Feb2023  \\\n",
      "0          0.0        0.0        0.0        0.0  ...        NaN        NaN   \n",
      "1          0.0        0.0        0.0        0.0  ...        NaN        NaN   \n",
      "2          0.0        0.0        0.0        0.0  ...        NaN        NaN   \n",
      "3          0.0        0.0        0.0        0.0  ...        NaN        NaN   \n",
      "4          0.0        0.0        0.0        0.0  ...        NaN        NaN   \n",
      "..         ...        ...        ...        ...  ...        ...        ...   \n",
      "390        0.0        0.0        0.0        0.0  ...        NaN        NaN   \n",
      "391        0.0        0.0        0.0        0.0  ...        NaN        NaN   \n",
      "392        0.0        0.0        0.0        0.0  ...        NaN        NaN   \n",
      "393        0.0        0.0        0.0        0.0  ...        NaN        NaN   \n",
      "394        0.0        0.0        0.0        0.0  ...        NaN        NaN   \n",
      "\n",
      "     21Feb2023  22Feb2023  23Feb2023  24Feb2023  25Feb2023  26Feb2023  \\\n",
      "0          NaN        NaN        NaN        NaN        NaN        NaN   \n",
      "1          NaN        NaN        NaN        NaN        NaN        NaN   \n",
      "2          NaN        NaN        NaN        NaN        NaN        NaN   \n",
      "3          NaN        NaN        NaN        NaN        NaN        NaN   \n",
      "4          NaN        NaN        NaN        NaN        NaN        NaN   \n",
      "..         ...        ...        ...        ...        ...        ...   \n",
      "390        NaN        NaN        NaN        NaN        NaN        NaN   \n",
      "391        NaN        NaN        NaN        NaN        NaN        NaN   \n",
      "392        NaN        NaN        NaN        NaN        NaN        NaN   \n",
      "393        NaN        NaN        NaN        NaN        NaN        NaN   \n",
      "394        NaN        NaN        NaN        NaN        NaN        NaN   \n",
      "\n",
      "     27Feb2023  28Feb2023  \n",
      "0          NaN        NaN  \n",
      "1          NaN        NaN  \n",
      "2          NaN        NaN  \n",
      "3          NaN        NaN  \n",
      "4          NaN        NaN  \n",
      "..         ...        ...  \n",
      "390        NaN        NaN  \n",
      "391        NaN        NaN  \n",
      "392        NaN        NaN  \n",
      "393        NaN        NaN  \n",
      "394        NaN        NaN  \n",
      "\n",
      "[395 rows x 1156 columns]\n"
     ]
    }
   ],
   "source": [
    "ts = \"data/timeseries_indices/OxCGRT_timeseries_all_v1.xlsx\"\n",
    "df_ts = pd.read_excel(ts)\n",
    "columns_to_exclude = ['CountryCode', 'RegionCode', 'RegionName','CityCode', 'CityName', 'Jurisdiction']\n",
    "\n",
    "selected_df_ts = df_ts.drop(columns=columns_to_exclude)\n",
    "\n",
    "print(selected_df_ts)"
   ]
  },
  {
   "cell_type": "code",
   "execution_count": null,
   "id": "1448736e",
   "metadata": {},
   "outputs": [],
   "source": []
  },
  {
   "cell_type": "code",
   "execution_count": null,
   "id": "4a4d4bfe",
   "metadata": {},
   "outputs": [],
   "source": []
  },
  {
   "cell_type": "code",
   "execution_count": null,
   "id": "cbacdad3",
   "metadata": {},
   "outputs": [],
   "source": []
  },
  {
   "cell_type": "code",
   "execution_count": null,
   "id": "51b2c1d7",
   "metadata": {},
   "outputs": [],
   "source": []
  },
  {
   "cell_type": "code",
   "execution_count": null,
   "id": "7f7fd0f0",
   "metadata": {},
   "outputs": [],
   "source": []
  },
  {
   "cell_type": "code",
   "execution_count": null,
   "id": "d313157d",
   "metadata": {},
   "outputs": [],
   "source": []
  },
  {
   "cell_type": "markdown",
   "id": "dd8e73f0",
   "metadata": {},
   "source": [
    "## EXTRA"
   ]
  },
  {
   "cell_type": "code",
   "execution_count": null,
   "id": "4ca2f030",
   "metadata": {},
   "outputs": [],
   "source": [
    "fig = px.bar(df.sort_values('ConfirmedCases', ascending=False)[:10][::-1], \n",
    "             x='ConfirmedCases', y='CountryName',\n",
    "             title='Confirmed Cases', text='ConfirmedCases', height=600, orientation='h')\n",
    "fig.show()"
   ]
  },
  {
   "cell_type": "code",
   "execution_count": null,
   "id": "8fd9eb65",
   "metadata": {},
   "outputs": [],
   "source": [
    "vaccines = \"data/OxCGRT_vaccines_full_national_v1.csv\"\n",
    "df_v = pd.read_csv(vaccines)\n",
    "print(df_v)\n",
    "\n",
    "\n"
   ]
  },
  {
   "cell_type": "code",
   "execution_count": null,
   "id": "8d850831",
   "metadata": {},
   "outputs": [],
   "source": []
  },
  {
   "cell_type": "code",
   "execution_count": null,
   "id": "4dfec4c3",
   "metadata": {},
   "outputs": [],
   "source": [
    "selected_row = df_ts[df_ts['CountryName'] == 'United States']\n",
    "print(selected_row)"
   ]
  },
  {
   "cell_type": "code",
   "execution_count": null,
   "id": "208cfc1a",
   "metadata": {},
   "outputs": [],
   "source": []
  }
 ],
 "metadata": {
  "kernelspec": {
   "display_name": "Python 3",
   "language": "python",
   "name": "python3"
  },
  "language_info": {
   "codemirror_mode": {
    "name": "ipython",
    "version": 3
   },
   "file_extension": ".py",
   "mimetype": "text/x-python",
   "name": "python",
   "nbconvert_exporter": "python",
   "pygments_lexer": "ipython3",
   "version": "3.8.8"
  }
 },
 "nbformat": 4,
 "nbformat_minor": 5
}
